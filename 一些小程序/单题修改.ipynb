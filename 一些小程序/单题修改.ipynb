{
 "cells": [
  {
   "cell_type": "code",
   "execution_count": 16,
   "metadata": {},
   "outputs": [],
   "source": [
    "#生成题库字符串problem_str以及题库词典problem_dicts\n",
    "import os,re\n",
    "os.chdir(\"d:/mathdept/一些小程序\")\n",
    "import vaulttools as vt\n",
    "vaults = [f for f in os.listdir(\"../题库0.2/\") if \"题库\" in f]\n",
    "problem_str = \"\"\n",
    "for v in vaults:\n",
    "    with open(\"../题库0.2/\"+v,\"r\",encoding=\"utf8\") as f:\n",
    "        problem_str += f.read()\n",
    "problem_dicts = {}\n",
    "for p in re.findall(r\"\\[B题目\\][\\s\\S]*?\\[E题目\\]\",problem_str):\n",
    "    id = vt.get_id(p)\n",
    "    dic = vt.setup_dict(p)\n",
    "    problem_dicts[id] = dic"
   ]
  },
  {
   "cell_type": "code",
   "execution_count": 17,
   "metadata": {},
   "outputs": [],
   "source": [
    "#在有problem_str的基础上, 实现根据题目id选题, 得到字符串raw_problem和字典raw_problem_dict\n",
    "id = 3450 #修改题目id\n",
    "id = str(id).zfill(6)\n",
    "raw_problem = re.findall(r\"\\[B题目\\][\\s]*<BID>[\\s]*\"+id+r\"[\\s\\S]*?\\[E题目\\]\",problem_str)[0]\n",
    "raw_problem_dict = problem_dicts[id] #后续可以修改"
   ]
  },
  {
   "cell_type": "code",
   "execution_count": null,
   "metadata": {},
   "outputs": [],
   "source": [
    "#此处修改了题目的dictionary, 进而修改了题目字符串为new_problem\n",
    "vt.add_genre(\"选择题\",raw_problem_dict)\n",
    "vt.add_answer(\"$1$\",raw_problem_dict)\n",
    "\n",
    "new_problem = vt.create_string_from_dict(raw_problem_dict)"
   ]
  },
  {
   "cell_type": "code",
   "execution_count": 28,
   "metadata": {},
   "outputs": [],
   "source": [
    "#寻找题目所在的文件并执行修改\n",
    "for v in vaults:\n",
    "    if v[1:7] <= id <= v[9:15]:\n",
    "        with open(\"../题库0.2/\"+v,\"r\",encoding=\"utf8\") as f:\n",
    "            data = f.read()\n",
    "        newdata = data.replace(raw_problem,new_problem)\n",
    "        with open(\"../题库0.2/\"+v,\"w\",encoding=\"utf8\") as f:\n",
    "            f.write(newdata)\n",
    "        break"
   ]
  },
  {
   "cell_type": "code",
   "execution_count": null,
   "metadata": {},
   "outputs": [],
   "source": []
  }
 ],
 "metadata": {
  "kernelspec": {
   "display_name": "Python 3.8.8 ('base')",
   "language": "python",
   "name": "python3"
  },
  "language_info": {
   "codemirror_mode": {
    "name": "ipython",
    "version": 3
   },
   "file_extension": ".py",
   "mimetype": "text/x-python",
   "name": "python",
   "nbconvert_exporter": "python",
   "pygments_lexer": "ipython3",
   "version": "3.8.8"
  },
  "orig_nbformat": 4,
  "vscode": {
   "interpreter": {
    "hash": "d311ffef239beb3b8f3764271728f3972d7b090c974f8e972fcdeedf230299ac"
   }
  }
 },
 "nbformat": 4,
 "nbformat_minor": 2
}
