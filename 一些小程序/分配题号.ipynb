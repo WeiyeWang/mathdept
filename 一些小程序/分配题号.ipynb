{
 "cells": [
  {
   "cell_type": "code",
   "execution_count": 16,
   "metadata": {},
   "outputs": [],
   "source": [
    "#生成题库字符串problem_str以及题库词典problem_dicts\n",
    "import os,re\n",
    "os.chdir(\"d:/mathdept/一些小程序\")\n",
    "import vaulttools as vt\n",
    "vaults = [f for f in os.listdir(\"../题库0.2/\") if \"题库\" in f]\n",
    "problem_str = \"\"\n",
    "for v in vaults:\n",
    "    with open(\"../题库0.2/\"+v,\"r\",encoding=\"utf8\") as f:\n",
    "        problem_str += f.read()\n",
    "problem_dicts = {}\n",
    "for p in re.findall(r\"\\[B题目\\][\\s\\S]*?\\[E题目\\]\",problem_str):\n",
    "    id = vt.get_id(p)\n",
    "    dic = vt.setup_dict(p)\n",
    "    problem_dicts[id] = dic"
   ]
  },
  {
   "cell_type": "code",
   "execution_count": 17,
   "metadata": {},
   "outputs": [],
   "source": [
    "current_ID = 11154 #首题的ID, 务必使所有题目在一个题库中, 按顺序排列\n",
    "papers = [(1,27),(2,19),(3,21),(4,21)] #列表, 每一项为(试卷编号, 试卷题数)\n",
    "for v in vaults:\n",
    "    if v[1:7] <= str(current_ID).zfill(6) <= v[9:15]:\n",
    "        with open(\"../题库0.2/\"+v,\"r\",encoding=\"utf8\") as f:\n",
    "            problem_str = f.read()\n",
    "while len(papers) > 0:\n",
    "    paper = papers.pop(0)\n",
    "    paper_index = paper[0]\n",
    "    for i in range(paper[1]):\n",
    "        dic = problem_dicts[str(current_ID).zfill(6)]\n",
    "        raw_problem = vt.get_problems_string_by_ID(str(current_ID).zfill(6),problem_str)\n",
    "        content = dic[\"content\"]\n",
    "        origin = dic[\"origin\"]\n",
    "        dic[\"origin\"] = origin + str(paper_index) + \"试题\" + str(i+1)\n",
    "        new_problem = vt.create_string_from_dict(dic)[:-1]\n",
    "        problem_str = problem_str.replace(raw_problem,new_problem)\n",
    "        current_ID += 1\n",
    "        #print(content)\n",
    "        #print(new_origin)\n",
    "for v in vaults:\n",
    "    if v[1:7] <= str(current_ID-1).zfill(6) <= v[9:15]:\n",
    "        with open(\"../题库0.2/\"+v,\"w\",encoding=\"utf8\") as f:\n",
    "            f.write(problem_str)\n",
    "        break"
   ]
  },
  {
   "cell_type": "code",
   "execution_count": null,
   "metadata": {},
   "outputs": [],
   "source": []
  }
 ],
 "metadata": {
  "kernelspec": {
   "display_name": "Python 3.8.8 ('base')",
   "language": "python",
   "name": "python3"
  },
  "language_info": {
   "codemirror_mode": {
    "name": "ipython",
    "version": 3
   },
   "file_extension": ".py",
   "mimetype": "text/x-python",
   "name": "python",
   "nbconvert_exporter": "python",
   "pygments_lexer": "ipython3",
   "version": "3.8.8"
  },
  "orig_nbformat": 4,
  "vscode": {
   "interpreter": {
    "hash": "d311ffef239beb3b8f3764271728f3972d7b090c974f8e972fcdeedf230299ac"
   }
  }
 },
 "nbformat": 4,
 "nbformat_minor": 2
}
