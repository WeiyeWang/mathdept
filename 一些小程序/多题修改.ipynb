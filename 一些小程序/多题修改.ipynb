{
 "cells": [
  {
   "cell_type": "code",
   "execution_count": 1,
   "metadata": {},
   "outputs": [],
   "source": [
    "#生成题库字符串problem_str以及题库词典problem_dicts\n",
    "import os,re\n",
    "os.chdir(\"d:/mathdept/一些小程序\")\n",
    "import vaulttools as vt\n",
    "vaults = [f for f in os.listdir(\"../题库0.2/\") if \"题库\" in f]\n",
    "problem_str = \"\"\n",
    "for v in vaults:\n",
    "    with open(\"../题库0.2/\"+v,\"r\",encoding=\"utf8\") as f:\n",
    "        problem_str += f.read()\n"
   ]
  },
  {
   "cell_type": "code",
   "execution_count": 7,
   "metadata": {},
   "outputs": [],
   "source": [
    "#在有problem_str的基础上, 实现逐一按照mod_field的方法修改to_modify中的每一项\n",
    "to_modify = [('000436', '8ex'), ('004873', '16ex'), ('002747', '16ex'), ('000018', '20ex'), ('003708', '2ex'), ('010030', '8ex')]\n",
    "mod_field = vt.add_space\n",
    "\n",
    "for item in to_modify:\n",
    "    id = item[0]\n",
    "    new_data = item[1]\n",
    "    raw_problem = re.findall(r\"\\[B题目\\][\\s]*<BID>[\\s]*\"+id+r\"[\\s\\S]*?\\[E题目\\]\",problem_str)[0]\n",
    "    raw_problem_dict = vt.setup_dict(raw_problem)\n",
    "    new_problem_dict = mod_field(new_data,raw_problem_dict)\n",
    "    new_problem= vt.create_string_from_dict(new_problem_dict)\n",
    "    problem_str = problem_str.replace(raw_problem,vt.trim(new_problem))\n",
    "    for v in vaults:\n",
    "        if v[1:7] <= id <= v[9:15]:\n",
    "            with open(\"../题库0.2/\"+v,\"r\",encoding=\"utf8\") as f:\n",
    "                data = f.read()\n",
    "            newdata = data.replace(raw_problem,vt.trim(new_problem))\n",
    "            with open(\"../题库0.2/\"+v,\"w\",encoding=\"utf8\") as f:\n",
    "                f.write(newdata)\n",
    "            break"
   ]
  },
  {
   "cell_type": "code",
   "execution_count": null,
   "metadata": {},
   "outputs": [],
   "source": []
  }
 ],
 "metadata": {
  "kernelspec": {
   "display_name": "Python 3.8.8 ('base')",
   "language": "python",
   "name": "python3"
  },
  "language_info": {
   "codemirror_mode": {
    "name": "ipython",
    "version": 3
   },
   "file_extension": ".py",
   "mimetype": "text/x-python",
   "name": "python",
   "nbconvert_exporter": "python",
   "pygments_lexer": "ipython3",
   "version": "3.8.8"
  },
  "orig_nbformat": 4,
  "vscode": {
   "interpreter": {
    "hash": "d311ffef239beb3b8f3764271728f3972d7b090c974f8e972fcdeedf230299ac"
   }
  }
 },
 "nbformat": 4,
 "nbformat_minor": 2
}
