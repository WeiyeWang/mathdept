{
 "cells": [
  {
   "cell_type": "code",
   "execution_count": 24,
   "metadata": {},
   "outputs": [],
   "source": [
    "import os,re\n",
    "os.chdir(\"d:/mathdept/一些小程序\")\n",
    "import vaulttools as vt\n",
    "(gloss,problem_str_dict,problem_dict_dict) = vt.vaults_to_string_and_dicts(\"d:/mathdept/题库0.2\")\n",
    "(gloss_obj,obj_list,obj_dict) = vt.get_gloss_objects(\"d:/mathdept/单元目标叙写/课时目标\")\n"
   ]
  },
  {
   "cell_type": "code",
   "execution_count": 25,
   "metadata": {},
   "outputs": [],
   "source": [
    "tags_descr = [\"第一单元\",\"第二单元\",\"第三单元\",\"第四单元\",\"第五单元\",\"第六单元\",\"第七单元\",\"第八单元\",\"第九单元\",\"暂无对应\"] #以下是单元题目统计\n",
    "tags_dict = {}\n",
    "units_string = \"\"\n",
    "for t in tags_descr:\n",
    "    tags_dict[t] = [0,\"\"]\n",
    "for p in problem_dict_dict:\n",
    "    for t in tags_descr:\n",
    "        if t in problem_dict_dict[p][\"tags\"]:\n",
    "            tags_dict[t][0] += 1\n",
    "            tags_dict[t][1] += p + \",\"\n",
    "for t in tags_descr:\n",
    "    units_string += t + \": \" + str(tags_dict[t][0]) + \"\\n\" #单元统计完成, units_string是简要列表, tags_dict是详细清单"
   ]
  },
  {
   "cell_type": "code",
   "execution_count": 31,
   "metadata": {},
   "outputs": [],
   "source": [
    "lessons_descr = [] #以下是课时题目统计\n",
    "for o in obj_list:\n",
    "    if not o[:5] in lessons_descr:\n",
    "        lessons_descr.append(o[:5])\n",
    "lessons_dict = {}\n",
    "lessons_string = \"\"\n",
    "for l in lessons_descr:\n",
    "    lessons_dict[l] = [0,\"\"]\n",
    "for p in problem_dict_dict:\n",
    "    for l in lessons_descr:\n",
    "        for o in problem_dict_dict[p][\"objs\"]:\n",
    "            if l in o:\n",
    "                lessons_dict[l][0] += 1\n",
    "                lessons_dict[l][1] += p + \",\"\n",
    "                break\n",
    "for l in lessons_descr:\n",
    "    lessons_string += l + \": \" + str(lessons_dict[l][0]) + \"\\n\" #课时统计完成, lessons_string是简要列表, lessons_dict是详细清单"
   ]
  },
  {
   "cell_type": "code",
   "execution_count": 48,
   "metadata": {},
   "outputs": [],
   "source": [
    "objs_descr = [] #以下是目标题目统计\n",
    "for o in obj_list:\n",
    "    if not o in objs_descr:\n",
    "        objs_descr.append(o)\n",
    "objs_dict = {}\n",
    "objs_string = \"\"\n",
    "for o in objs_descr:\n",
    "    objs_dict[o] = [0,\"\"]\n",
    "for p in problem_dict_dict:\n",
    "    for o in objs_descr:\n",
    "        if o in problem_dict_dict[p][\"objs\"]:\n",
    "            objs_dict[o][0] += 1\n",
    "            objs_dict[o][1] += p + \",\"\n",
    "for o in objs_descr:\n",
    "    objs_string += o + \": \" + str(objs_dict[o][0]) + \"\\n\" #课时统计完成, lessons_string是简要列表, lessons_dict是详细清单"
   ]
  },
  {
   "cell_type": "code",
   "execution_count": null,
   "metadata": {},
   "outputs": [],
   "source": []
  }
 ],
 "metadata": {
  "kernelspec": {
   "display_name": "Python 3.8.8 ('base')",
   "language": "python",
   "name": "python3"
  },
  "language_info": {
   "codemirror_mode": {
    "name": "ipython",
    "version": 3
   },
   "file_extension": ".py",
   "mimetype": "text/x-python",
   "name": "python",
   "nbconvert_exporter": "python",
   "pygments_lexer": "ipython3",
   "version": "3.8.8"
  },
  "orig_nbformat": 4,
  "vscode": {
   "interpreter": {
    "hash": "d311ffef239beb3b8f3764271728f3972d7b090c974f8e972fcdeedf230299ac"
   }
  }
 },
 "nbformat": 4,
 "nbformat_minor": 2
}
