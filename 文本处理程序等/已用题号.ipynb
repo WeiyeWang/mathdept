{
 "cells": [
  {
   "cell_type": "code",
   "execution_count": 1,
   "metadata": {},
   "outputs": [],
   "source": [
    "import os,re\n",
    "os.chdir(\"d:/mathdept/一些小程序\")\n",
    "import vaulttools as vt\n",
    "(obj_str,obj_list,obj_dict) = vt.get_gloss_objects(\"../单元目标叙写/课时目标\")\n",
    "(pro_str,pro_list,pro_dict) = vt.vaults_to_string_and_dicts(\"../题库0.2\")\n",
    "os.chdir(r\"C:\\Users\\weiye\\Documents\\wwy sync\\23届\\第一轮复习讲义\")#已用题目所在目录\n",
    "filelist = [f for f in os.listdir() if \".tex\" in f]\n",
    "id_list = []\n",
    "for f in filelist:\n",
    "    with open(f,\"r\",encoding=\"utf8\") as note:\n",
    "        id_list = id_list + re.findall(r\"\\(([\\d]{6})\\)\",note.read())\n",
    "id_append = []\n",
    "for id in id_list:\n",
    "    id_append = id_append + pro_dict[id][\"same\"]\n",
    "id_list = id_list + id_append\n",
    "with open(\"d:/mathdept/文本处理程序等/usedid.txt\",\"w\",encoding=\"utf8\") as f:\n",
    "    f.write(\",\".join(id_list))"
   ]
  },
  {
   "cell_type": "code",
   "execution_count": null,
   "metadata": {},
   "outputs": [],
   "source": []
  }
 ],
 "metadata": {
  "kernelspec": {
   "display_name": "Python 3.8.8 ('base')",
   "language": "python",
   "name": "python3"
  },
  "language_info": {
   "codemirror_mode": {
    "name": "ipython",
    "version": 3
   },
   "file_extension": ".py",
   "mimetype": "text/x-python",
   "name": "python",
   "nbconvert_exporter": "python",
   "pygments_lexer": "ipython3",
   "version": "3.8.8"
  },
  "orig_nbformat": 4,
  "vscode": {
   "interpreter": {
    "hash": "d311ffef239beb3b8f3764271728f3972d7b090c974f8e972fcdeedf230299ac"
   }
  }
 },
 "nbformat": 4,
 "nbformat_minor": 2
}
