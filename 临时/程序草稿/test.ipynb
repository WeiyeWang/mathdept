{
 "cells": [
  {
   "cell_type": "code",
   "execution_count": 1,
   "metadata": {},
   "outputs": [],
   "source": [
    "#生成题库字符串problem_str以及题库词典problem_dicts\n",
    "import os,re\n",
    "os.chdir(\"d:/mathdept/一些小程序\")\n",
    "import vaulttools as vt\n",
    "vaults = [f for f in os.listdir(\"../题库0.2/\") if \"题库\" in f]\n",
    "problem_str = \"\"\n",
    "for v in vaults:\n",
    "    with open(\"../题库0.2/\"+v,\"r\",encoding=\"utf8\") as f:\n",
    "        problem_str += f.read()\n"
   ]
  },
  {
   "cell_type": "code",
   "execution_count": 7,
   "metadata": {},
   "outputs": [],
   "source": [
    "#在有problem_str的基础上, 实现逐一按照mod_field的方法修改to_modify中的每一项\n",
    "to_modify = [('000436', '8ex'), ('004873', '16ex'), ('002747', '16ex'), ('000018', '20ex'), ('003708', '2ex'), ('010030', '8ex')]\n",
    "mod_field = vt.add_space\n",
    "\n",
    "for item in to_modify:\n",
    "    id = item[0]\n",
    "    new_data = item[1]\n",
    "    raw_problem = re.findall(r\"\\[B题目\\][\\s]*<BID>[\\s]*\"+id+r\"[\\s\\S]*?\\[E题目\\]\",problem_str)[0]\n",
    "    raw_problem_dict = vt.setup_dict(raw_problem)\n",
    "    new_problem_dict = mod_field(new_data,raw_problem_dict)\n",
    "    new_problem= vt.create_string_from_dict(new_problem_dict)\n",
    "    problem_str = problem_str.replace(raw_problem,vt.trim(new_problem))\n",
    "    for v in vaults:\n",
    "        if v[1:7] <= id <= v[9:15]:\n",
    "            with open(\"../题库0.2/\"+v,\"r\",encoding=\"utf8\") as f:\n",
    "                data = f.read()\n",
    "            newdata = data.replace(raw_problem,vt.trim(new_problem))\n",
    "            with open(\"../题库0.2/\"+v,\"w\",encoding=\"utf8\") as f:\n",
    "                f.write(newdata)\n",
    "            break"
   ]
  },
  {
   "cell_type": "code",
   "execution_count": 3,
   "metadata": {},
   "outputs": [],
   "source": [
    "problem_dicts = {}\n",
    "for p in re.findall(r\"\\[B题目\\][\\s\\S]*?\\[E题目\\]\",problem_str):\n",
    "    id = vt.get_id(p)\n",
    "    dic = vt.setup_dict(p)\n",
    "    problem_dicts[id] = dic"
   ]
  },
  {
   "cell_type": "code",
   "execution_count": 8,
   "metadata": {},
   "outputs": [
    {
     "name": "stdout",
     "output_type": "stream",
     "text": [
      "000018 20ex\n",
      "000436 8ex\n",
      "001003 16ex\n",
      "001015 16ex\n",
      "001016 8ex\n",
      "002700 24ex\n",
      "002702 16ex\n",
      "002747 16ex\n",
      "003708 2ex\n",
      "004768 10ex\n",
      "004770 16ex\n",
      "004781 4ex\n",
      "004864 8ex\n",
      "004873 16ex\n",
      "004894 8ex\n",
      "007692 10ex\n",
      "007736 2ex\n",
      "010021 20ex\n",
      "010026 8ex\n",
      "010027 16ex\n",
      "010030 8ex\n",
      "020028 4ex\n",
      "020034 8ex\n",
      "020035 16ex\n",
      "020040 20ex\n",
      "020041 24ex\n",
      "020065 4ex\n"
     ]
    }
   ],
   "source": [
    "for i in problem_dicts:\n",
    "    if problem_dicts[i][\"space\"] != \"\":\n",
    "        print(i,problem_dicts[i][\"space\"])"
   ]
  },
  {
   "cell_type": "code",
   "execution_count": 7,
   "metadata": {},
   "outputs": [
    {
     "ename": "TypeError",
     "evalue": "expected string or bytes-like object",
     "output_type": "error",
     "traceback": [
      "\u001b[1;31m---------------------------------------------------------------------------\u001b[0m",
      "\u001b[1;31mTypeError\u001b[0m                                 Traceback (most recent call last)",
      "\u001b[1;32m<ipython-input-7-e59984e736c0>\u001b[0m in \u001b[0;36m<module>\u001b[1;34m\u001b[0m\n\u001b[1;32m----> 1\u001b[1;33m \u001b[0mvt\u001b[0m\u001b[1;33m.\u001b[0m\u001b[0mget_space\u001b[0m\u001b[1;33m(\u001b[0m\u001b[0mproblem_dicts\u001b[0m\u001b[1;33m[\u001b[0m\u001b[0mi\u001b[0m\u001b[1;33m]\u001b[0m\u001b[1;33m)\u001b[0m\u001b[1;33m\u001b[0m\u001b[1;33m\u001b[0m\u001b[0m\n\u001b[0m",
      "\u001b[1;32md:\\mathdept\\一些小程序\\vaulttools.py\u001b[0m in \u001b[0;36mget_space\u001b[1;34m(string)\u001b[0m\n\u001b[0;32m    304\u001b[0m \u001b[1;32mdef\u001b[0m \u001b[0mget_space\u001b[0m\u001b[1;33m(\u001b[0m\u001b[0mstring\u001b[0m\u001b[1;33m)\u001b[0m\u001b[1;33m:\u001b[0m\u001b[1;33m\u001b[0m\u001b[1;33m\u001b[0m\u001b[0m\n\u001b[0;32m    305\u001b[0m     \u001b[1;31m# 返回problem_set里的解答空间内容\u001b[0m\u001b[1;33m\u001b[0m\u001b[1;33m\u001b[0m\u001b[1;33m\u001b[0m\u001b[0m\n\u001b[1;32m--> 306\u001b[1;33m     \u001b[0mspace_list\u001b[0m \u001b[1;33m=\u001b[0m \u001b[0mre\u001b[0m\u001b[1;33m.\u001b[0m\u001b[0mfindall\u001b[0m\u001b[1;33m(\u001b[0m\u001b[1;34mr\"<B解答空间>([\\s\\S]*?)<E解答空间>\"\u001b[0m\u001b[1;33m,\u001b[0m\u001b[0mstring\u001b[0m\u001b[1;33m)\u001b[0m\u001b[1;33m\u001b[0m\u001b[1;33m\u001b[0m\u001b[0m\n\u001b[0m\u001b[0;32m    307\u001b[0m     \u001b[1;32mif\u001b[0m \u001b[0mlen\u001b[0m\u001b[1;33m(\u001b[0m\u001b[0mspace_list\u001b[0m\u001b[1;33m)\u001b[0m \u001b[1;33m!=\u001b[0m \u001b[1;36m1\u001b[0m\u001b[1;33m:\u001b[0m\u001b[1;33m\u001b[0m\u001b[1;33m\u001b[0m\u001b[0m\n\u001b[0;32m    308\u001b[0m         \u001b[1;32mtry\u001b[0m\u001b[1;33m:\u001b[0m\u001b[1;33m\u001b[0m\u001b[1;33m\u001b[0m\u001b[0m\n",
      "\u001b[1;32mc:\\Users\\weiye\\anaconda3\\lib\\re.py\u001b[0m in \u001b[0;36mfindall\u001b[1;34m(pattern, string, flags)\u001b[0m\n\u001b[0;32m    239\u001b[0m \u001b[1;33m\u001b[0m\u001b[0m\n\u001b[0;32m    240\u001b[0m     Empty matches are included in the result.\"\"\"\n\u001b[1;32m--> 241\u001b[1;33m     \u001b[1;32mreturn\u001b[0m \u001b[0m_compile\u001b[0m\u001b[1;33m(\u001b[0m\u001b[0mpattern\u001b[0m\u001b[1;33m,\u001b[0m \u001b[0mflags\u001b[0m\u001b[1;33m)\u001b[0m\u001b[1;33m.\u001b[0m\u001b[0mfindall\u001b[0m\u001b[1;33m(\u001b[0m\u001b[0mstring\u001b[0m\u001b[1;33m)\u001b[0m\u001b[1;33m\u001b[0m\u001b[1;33m\u001b[0m\u001b[0m\n\u001b[0m\u001b[0;32m    242\u001b[0m \u001b[1;33m\u001b[0m\u001b[0m\n\u001b[0;32m    243\u001b[0m \u001b[1;32mdef\u001b[0m \u001b[0mfinditer\u001b[0m\u001b[1;33m(\u001b[0m\u001b[0mpattern\u001b[0m\u001b[1;33m,\u001b[0m \u001b[0mstring\u001b[0m\u001b[1;33m,\u001b[0m \u001b[0mflags\u001b[0m\u001b[1;33m=\u001b[0m\u001b[1;36m0\u001b[0m\u001b[1;33m)\u001b[0m\u001b[1;33m:\u001b[0m\u001b[1;33m\u001b[0m\u001b[1;33m\u001b[0m\u001b[0m\n",
      "\u001b[1;31mTypeError\u001b[0m: expected string or bytes-like object"
     ]
    }
   ],
   "source": [
    "vt.get_space(problem_dicts[i])"
   ]
  },
  {
   "cell_type": "code",
   "execution_count": null,
   "metadata": {},
   "outputs": [],
   "source": []
  }
 ],
 "metadata": {
  "kernelspec": {
   "display_name": "Python 3.8.8 ('base')",
   "language": "python",
   "name": "python3"
  },
  "language_info": {
   "codemirror_mode": {
    "name": "ipython",
    "version": 3
   },
   "file_extension": ".py",
   "mimetype": "text/x-python",
   "name": "python",
   "nbconvert_exporter": "python",
   "pygments_lexer": "ipython3",
   "version": "3.8.8"
  },
  "orig_nbformat": 4,
  "vscode": {
   "interpreter": {
    "hash": "d311ffef239beb3b8f3764271728f3972d7b090c974f8e972fcdeedf230299ac"
   }
  }
 },
 "nbformat": 4,
 "nbformat_minor": 2
}
